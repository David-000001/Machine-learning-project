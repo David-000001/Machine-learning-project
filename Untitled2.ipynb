{
  "nbformat": 4,
  "nbformat_minor": 0,
  "metadata": {
    "colab": {
      "provenance": [],
      "authorship_tag": "ABX9TyPyvdBj1i0ZvwgFl9jEprVt",
      "include_colab_link": true
    },
    "kernelspec": {
      "name": "python3",
      "display_name": "Python 3"
    },
    "language_info": {
      "name": "python"
    }
  },
  "cells": [
    {
      "cell_type": "markdown",
      "metadata": {
        "id": "view-in-github",
        "colab_type": "text"
      },
      "source": [
        "<a href=\"https://colab.research.google.com/github/David-000001/Machine-learning-project/blob/main/Untitled2.ipynb\" target=\"_parent\"><img src=\"https://colab.research.google.com/assets/colab-badge.svg\" alt=\"Open In Colab\"/></a>"
      ]
    },
    {
      "cell_type": "code",
      "execution_count": 2,
      "metadata": {
        "id": "-JiM3KmrT1l2"
      },
      "outputs": [],
      "source": [
        "import pandas as pd\n",
        "import numpy as np\n",
        "df = pd.read_csv('/content/Water_Consumption_And_Cost__2013_-_Feb_2023_.csv')"
      ]
    },
    {
      "cell_type": "code",
      "source": [
        "df.info()"
      ],
      "metadata": {
        "id": "Wve-PrMtlOdG",
        "outputId": "1e804666-4f62-4149-9a7e-49a27718b0cd",
        "colab": {
          "base_uri": "https://localhost:8080/"
        }
      },
      "execution_count": 3,
      "outputs": [
        {
          "output_type": "stream",
          "name": "stdout",
          "text": [
            "<class 'pandas.core.frame.DataFrame'>\n",
            "RangeIndex: 50315 entries, 0 to 50314\n",
            "Data columns (total 25 columns):\n",
            " #   Column               Non-Null Count  Dtype  \n",
            "---  ------               --------------  -----  \n",
            " 0   Development Name     50255 non-null  object \n",
            " 1   Borough              50315 non-null  object \n",
            " 2   Account Name         50315 non-null  object \n",
            " 3   Location             49487 non-null  object \n",
            " 4   Meter AMR            49805 non-null  object \n",
            " 5   Meter Scope          12782 non-null  object \n",
            " 6   TDS #                50255 non-null  float64\n",
            " 7   EDP                  50315 non-null  int64  \n",
            " 8   RC Code              50315 non-null  object \n",
            " 9   Funding Source       50239 non-null  object \n",
            " 10  AMP #                50193 non-null  object \n",
            " 11  Vendor Name          50315 non-null  object \n",
            " 12  UMIS BILL ID         50315 non-null  int64  \n",
            " 13  Revenue Month        50315 non-null  object \n",
            " 14  Service Start Date   50308 non-null  object \n",
            " 15  Service End Date     50308 non-null  object \n",
            " 16  # days               50308 non-null  float64\n",
            " 17  Meter Number         50315 non-null  object \n",
            " 18  Estimated            50315 non-null  object \n",
            " 19  Current Charges      50315 non-null  float64\n",
            " 20  Rate Class           50279 non-null  object \n",
            " 21  Bill Analyzed        50315 non-null  object \n",
            " 22  Consumption (HCF)    50315 non-null  int64  \n",
            " 23  Water&Sewer Charges  50315 non-null  float64\n",
            " 24  Other Charges        50315 non-null  float64\n",
            "dtypes: float64(5), int64(3), object(17)\n",
            "memory usage: 9.6+ MB\n"
          ]
        }
      ]
    },
    {
      "cell_type": "code",
      "source": [],
      "metadata": {
        "id": "Jgemlu_JlQEp"
      },
      "execution_count": null,
      "outputs": []
    }
  ]
}